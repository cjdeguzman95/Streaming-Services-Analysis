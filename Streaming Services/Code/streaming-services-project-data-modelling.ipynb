{
 "cells": [
  {
   "cell_type": "code",
   "execution_count": 1,
   "id": "9bd1e136",
   "metadata": {},
   "outputs": [],
   "source": [
    "from pathlib import Path\n",
    "import os\n",
    "import pandas as pd\n",
    "import openpyxl as xl\n",
    "\n",
    "pd.set_option('display.max_columns', None)\n",
    "pd.set_option('display.max_rows', None)\n",
    "pd.options.mode.chained_assignment = None"
   ]
  },
  {
   "cell_type": "markdown",
   "id": "d6170cef",
   "metadata": {},
   "source": [
    "# Load files"
   ]
  },
  {
   "cell_type": "code",
   "execution_count": 2,
   "id": "708a2551",
   "metadata": {},
   "outputs": [],
   "source": [
    "def loadFile(p, extension):\n",
    "    path = Path(p)\n",
    "    \n",
    "    if extension == 'xlsx':\n",
    "        df = pd.read_excel(path)\n",
    "    elif extension == 'csv':\n",
    "        df = pd.read_csv(path, low_memory = False)\n",
    "    else:\n",
    "        print('Extension not supported')\n",
    "    \n",
    "    return df"
   ]
  },
  {
   "cell_type": "markdown",
   "id": "80672859",
   "metadata": {},
   "source": [
    "First, the clean dataset"
   ]
  },
  {
   "cell_type": "code",
   "execution_count": 3,
   "id": "da9e8d29",
   "metadata": {},
   "outputs": [],
   "source": [
    "filePath = '../Data/Processed/streaming-services-clean-masterfile.csv'\n",
    "master_df = loadFile(filePath, 'csv') # clean masterfile"
   ]
  },
  {
   "cell_type": "markdown",
   "id": "8491ac2e",
   "metadata": {},
   "source": [
    "Then, the reference files"
   ]
  },
  {
   "cell_type": "code",
   "execution_count": 4,
   "id": "fe05dec8",
   "metadata": {},
   "outputs": [],
   "source": [
    "filePath = '../Data/Staging/table-fields.xlsx' # details which fields are in each dimension / fact table\n",
    "dfFields = loadFile(filePath, 'xlsx') # For dimension fields retrieval\n",
    "\n",
    "filePath = '../Data/Staging/table-columns.xlsx' # details the primary key columns\n",
    "dfColumnKeys = loadFile(filePath, 'xlsx') # For column-key mapping in data model"
   ]
  },
  {
   "cell_type": "markdown",
   "id": "6d78baf6",
   "metadata": {},
   "source": [
    "# Create `dimension` tables"
   ]
  },
  {
   "cell_type": "markdown",
   "id": "a9148f3b",
   "metadata": {},
   "source": [
    "<div class=\"alert alert-block alert-danger\">\n",
    "    <b>NOTE:</b> <i>dim_employee</i> and <i>fact_progress</i> must be done separately\n",
    "</div>"
   ]
  },
  {
   "cell_type": "markdown",
   "id": "a2e04208",
   "metadata": {},
   "source": [
    "Retrieve dimension table names"
   ]
  },
  {
   "cell_type": "code",
   "execution_count": 5,
   "id": "05623707",
   "metadata": {},
   "outputs": [],
   "source": [
    "DIM_TABLE_NAMES = list(dfFields[dfFields['Table'] != 'fact_media']['Table'])"
   ]
  },
  {
   "cell_type": "markdown",
   "id": "02ac51cc",
   "metadata": {},
   "source": [
    "### Define functions to help with table creation"
   ]
  },
  {
   "cell_type": "markdown",
   "id": "759900a3",
   "metadata": {},
   "source": [
    "#### A function that retrieves all columns for each dimension table"
   ]
  },
  {
   "cell_type": "code",
   "execution_count": 6,
   "id": "e1229fe8",
   "metadata": {},
   "outputs": [],
   "source": [
    "def extractTableCols(fieldsDf, table):\n",
    "    \n",
    "    cols = list(fieldsDf[fieldsDf['Table'] == table]['Field'])\n",
    "    \n",
    "    return cols"
   ]
  },
  {
   "cell_type": "markdown",
   "id": "bd1d61f0",
   "metadata": {},
   "source": [
    "#### A function that creates a sorted dataframe for each table"
   ]
  },
  {
   "cell_type": "code",
   "execution_count": 7,
   "id": "a431d594",
   "metadata": {},
   "outputs": [],
   "source": [
    "def createDataFrames(mainDf, fieldsDf, keysDf, tableNames):\n",
    "    \n",
    "    dfList = []\n",
    "    \n",
    "    for name in tableNames:\n",
    "        tableCols = extractTableCols(fieldsDf, name)\n",
    "        keyCol = keysDf[keysDf['Table'] == name]['Key'].iat[0]\n",
    "        \n",
    "        df = mainDf[tableCols]\n",
    "        df = df.drop_duplicates(subset=[keyCol]).sort_values(by=[keyCol], ignore_index=True)\n",
    "        \n",
    "        dfList.append(df)\n",
    "        \n",
    "    return dfList"
   ]
  },
  {
   "cell_type": "markdown",
   "id": "2d1ad55e",
   "metadata": {},
   "source": [
    "#### A function that creates a dimension table with keys"
   ]
  },
  {
   "cell_type": "code",
   "execution_count": 8,
   "id": "38952eed",
   "metadata": {},
   "outputs": [],
   "source": [
    "def createDimTables(mainDf, fieldsDf, keysDf, tableNames):\n",
    "    listDf = createDataFrames(mainDf, fieldsDf, keysDf, tableNames)\n",
    "    dimTables = []\n",
    "    index = 0\n",
    "\n",
    "    for df in listDf:\n",
    "        colName = tableNames[index]\n",
    "        keyName = colName.capitalize() + 'Key'\n",
    "\n",
    "        df = df.reset_index().rename(columns={'index':keyName})\n",
    "\n",
    "        dimTables.append(df)\n",
    "        index += 1\n",
    "    \n",
    "    return dimTables"
   ]
  },
  {
   "cell_type": "markdown",
   "id": "06ead6d2",
   "metadata": {},
   "source": [
    "And now we build all the `dimension` tables using the above functions!"
   ]
  },
  {
   "cell_type": "code",
   "execution_count": 9,
   "id": "a8bde728",
   "metadata": {
    "scrolled": true
   },
   "outputs": [
    {
     "data": {
      "text/plain": [
       "5"
      ]
     },
     "execution_count": 9,
     "metadata": {},
     "output_type": "execute_result"
    }
   ],
   "source": [
    "DIM_TABLES = createDimTables(master_df, dfFields, dfColumnKeys, DIM_TABLE_NAMES)\n",
    "len(DIM_TABLES)"
   ]
  },
  {
   "cell_type": "markdown",
   "id": "bda35f36",
   "metadata": {},
   "source": [
    "# Create the `fact` table"
   ]
  },
  {
   "cell_type": "markdown",
   "id": "2e08ede1",
   "metadata": {},
   "source": [
    "Retrieve `primary key` columns for each `dimension table`"
   ]
  },
  {
   "cell_type": "code",
   "execution_count": 10,
   "id": "fee7ca13",
   "metadata": {},
   "outputs": [],
   "source": [
    "dimKeyCols = list(dfColumnKeys['Key']) # key columns that must be added onto fact_progress"
   ]
  },
  {
   "cell_type": "markdown",
   "id": "02128b4a",
   "metadata": {},
   "source": [
    "Retrieve columns for the `fact_media` table"
   ]
  },
  {
   "cell_type": "code",
   "execution_count": 11,
   "id": "b2abf7d8",
   "metadata": {},
   "outputs": [],
   "source": [
    "FACT_MEDIA_COLS = list(dfFields[dfFields['Table'] == 'fact_media']['Field']) + dimKeyCols"
   ]
  },
  {
   "cell_type": "markdown",
   "id": "22ff29ab",
   "metadata": {},
   "source": [
    "#### Create `fact_media` "
   ]
  },
  {
   "cell_type": "code",
   "execution_count": 12,
   "id": "1dc7b43c",
   "metadata": {},
   "outputs": [],
   "source": [
    "dfFactMedia = master_df[FACT_MEDIA_COLS]"
   ]
  },
  {
   "cell_type": "code",
   "execution_count": 13,
   "id": "7fadd20c",
   "metadata": {},
   "outputs": [
    {
     "data": {
      "text/html": [
       "<div>\n",
       "<style scoped>\n",
       "    .dataframe tbody tr th:only-of-type {\n",
       "        vertical-align: middle;\n",
       "    }\n",
       "\n",
       "    .dataframe tbody tr th {\n",
       "        vertical-align: top;\n",
       "    }\n",
       "\n",
       "    .dataframe thead th {\n",
       "        text-align: right;\n",
       "    }\n",
       "</style>\n",
       "<table border=\"1\" class=\"dataframe\">\n",
       "  <thead>\n",
       "    <tr style=\"text-align: right;\">\n",
       "      <th></th>\n",
       "      <th>Release Year</th>\n",
       "      <th>Duration (Mins)</th>\n",
       "      <th>Duration (Seasons)</th>\n",
       "      <th>Director(s)</th>\n",
       "      <th>Cast</th>\n",
       "      <th>Synopsis</th>\n",
       "      <th>Streaming Service</th>\n",
       "      <th>Title</th>\n",
       "      <th>Media Type</th>\n",
       "      <th>Genre(s)</th>\n",
       "      <th>Certificate</th>\n",
       "    </tr>\n",
       "  </thead>\n",
       "  <tbody>\n",
       "    <tr>\n",
       "      <th>0</th>\n",
       "      <td>2018</td>\n",
       "      <td>110.0</td>\n",
       "      <td>0</td>\n",
       "      <td>Girish Joshi</td>\n",
       "      <td>Mahesh Manjrekar, Abhay Mahajan, Sachin Khedekar</td>\n",
       "      <td>A Metro Family decides to fight a Cyber Crimin...</td>\n",
       "      <td>Amazon Prime</td>\n",
       "      <td>Take Care Good Night</td>\n",
       "      <td>Movie</td>\n",
       "      <td>Drama, International</td>\n",
       "      <td>13+</td>\n",
       "    </tr>\n",
       "    <tr>\n",
       "      <th>1</th>\n",
       "      <td>2016</td>\n",
       "      <td>87.0</td>\n",
       "      <td>0</td>\n",
       "      <td>Glenn Miller</td>\n",
       "      <td>Marcus Anderson, Kaiwi Lyman, Andrew Asper</td>\n",
       "      <td>When a strange virus quickly spreads through a...</td>\n",
       "      <td>Amazon Prime</td>\n",
       "      <td>Zoombies</td>\n",
       "      <td>Movie</td>\n",
       "      <td>Horror, Science Fiction</td>\n",
       "      <td>13+</td>\n",
       "    </tr>\n",
       "    <tr>\n",
       "      <th>2</th>\n",
       "      <td>2008</td>\n",
       "      <td>0.0</td>\n",
       "      <td>1</td>\n",
       "      <td>NaN</td>\n",
       "      <td>Narrator - Gillian Barlett</td>\n",
       "      <td>A heart warming and inspiring series that welc...</td>\n",
       "      <td>Amazon Prime</td>\n",
       "      <td>Zoo Babies</td>\n",
       "      <td>TV Show</td>\n",
       "      <td>Kids, Special Interest</td>\n",
       "      <td>ALL</td>\n",
       "    </tr>\n",
       "    <tr>\n",
       "      <th>3</th>\n",
       "      <td>2020</td>\n",
       "      <td>0.0</td>\n",
       "      <td>1</td>\n",
       "      <td>NaN</td>\n",
       "      <td>Zoë Coombs Marr</td>\n",
       "      <td>Zoë Coombs Marr has been on hiatus. Sort of. F...</td>\n",
       "      <td>Amazon Prime</td>\n",
       "      <td>Zoë Coombs Marr: Bossy Bottom</td>\n",
       "      <td>TV Show</td>\n",
       "      <td>Comedy, Talk Show and Variety</td>\n",
       "      <td>18+</td>\n",
       "    </tr>\n",
       "    <tr>\n",
       "      <th>4</th>\n",
       "      <td>2018</td>\n",
       "      <td>104.0</td>\n",
       "      <td>0</td>\n",
       "      <td>Drake Doremus</td>\n",
       "      <td>Ewan McGregor, Léa Seydoux, Theo James, Mirand...</td>\n",
       "      <td>ZOE tells a tale of forbidden love between an ...</td>\n",
       "      <td>Amazon Prime</td>\n",
       "      <td>Zoe</td>\n",
       "      <td>Movie</td>\n",
       "      <td>Science Fiction</td>\n",
       "      <td>R</td>\n",
       "    </tr>\n",
       "  </tbody>\n",
       "</table>\n",
       "</div>"
      ],
      "text/plain": [
       "   Release Year  Duration (Mins)  Duration (Seasons)    Director(s)  \\\n",
       "0          2018            110.0                   0   Girish Joshi   \n",
       "1          2016             87.0                   0   Glenn Miller   \n",
       "2          2008              0.0                   1            NaN   \n",
       "3          2020              0.0                   1            NaN   \n",
       "4          2018            104.0                   0  Drake Doremus   \n",
       "\n",
       "                                                Cast  \\\n",
       "0   Mahesh Manjrekar, Abhay Mahajan, Sachin Khedekar   \n",
       "1         Marcus Anderson, Kaiwi Lyman, Andrew Asper   \n",
       "2                         Narrator - Gillian Barlett   \n",
       "3                                    Zoë Coombs Marr   \n",
       "4  Ewan McGregor, Léa Seydoux, Theo James, Mirand...   \n",
       "\n",
       "                                            Synopsis Streaming Service  \\\n",
       "0  A Metro Family decides to fight a Cyber Crimin...      Amazon Prime   \n",
       "1  When a strange virus quickly spreads through a...      Amazon Prime   \n",
       "2  A heart warming and inspiring series that welc...      Amazon Prime   \n",
       "3  Zoë Coombs Marr has been on hiatus. Sort of. F...      Amazon Prime   \n",
       "4  ZOE tells a tale of forbidden love between an ...      Amazon Prime   \n",
       "\n",
       "                           Title Media Type                       Genre(s)  \\\n",
       "0           Take Care Good Night      Movie           Drama, International   \n",
       "1                       Zoombies      Movie        Horror, Science Fiction   \n",
       "2                     Zoo Babies    TV Show         Kids, Special Interest   \n",
       "3  Zoë Coombs Marr: Bossy Bottom    TV Show  Comedy, Talk Show and Variety   \n",
       "4                            Zoe      Movie                Science Fiction   \n",
       "\n",
       "  Certificate  \n",
       "0         13+  \n",
       "1         13+  \n",
       "2         ALL  \n",
       "3         18+  \n",
       "4           R  "
      ]
     },
     "execution_count": 13,
     "metadata": {},
     "output_type": "execute_result"
    }
   ],
   "source": [
    "dfFactMedia.head()"
   ]
  },
  {
   "cell_type": "markdown",
   "id": "35825439",
   "metadata": {},
   "source": [
    "#### Map `primary keys` from all  `dimension` tables to `fact_media`\n",
    "\n",
    "A function is defined to complete this task"
   ]
  },
  {
   "cell_type": "code",
   "execution_count": 14,
   "id": "d22265fa",
   "metadata": {},
   "outputs": [],
   "source": [
    "def updateFactColumnsWithKeys(df, tableList, columnList, newColNamesList):\n",
    "    \n",
    "    counter = len(tableList)\n",
    "    index = counter - 1\n",
    "    \n",
    "    while counter > 0:\n",
    "        for dimension in range(len(tableList)):\n",
    "            df2 = tableList[index].set_index([columnList[index]])\n",
    "            df2 = df2[~df2.index.duplicated(keep='first')] # remove duplicate indices and keep first occurence\n",
    "            \n",
    "            df[columnList[index]] = df[columnList[index]].map(df2[df2.columns[0]]) # maps dim keys to fact table\n",
    "            \n",
    "            newColName = newColNamesList[index].capitalize() + 'Key'\n",
    "            colNameUpdate = {columnList[index]:newColName}\n",
    "            df.rename(columns=colNameUpdate, inplace = True) # renames key columns in fact table to dimension table names\n",
    "            \n",
    "            counter -= 1\n",
    "            index -= 1\n",
    "            \n",
    "    return df"
   ]
  },
  {
   "cell_type": "markdown",
   "id": "87f6ff4a",
   "metadata": {},
   "source": [
    "Let's now map the keys..."
   ]
  },
  {
   "cell_type": "code",
   "execution_count": 15,
   "id": "b49be0ce",
   "metadata": {},
   "outputs": [
    {
     "data": {
      "text/html": [
       "<div>\n",
       "<style scoped>\n",
       "    .dataframe tbody tr th:only-of-type {\n",
       "        vertical-align: middle;\n",
       "    }\n",
       "\n",
       "    .dataframe tbody tr th {\n",
       "        vertical-align: top;\n",
       "    }\n",
       "\n",
       "    .dataframe thead th {\n",
       "        text-align: right;\n",
       "    }\n",
       "</style>\n",
       "<table border=\"1\" class=\"dataframe\">\n",
       "  <thead>\n",
       "    <tr style=\"text-align: right;\">\n",
       "      <th></th>\n",
       "      <th>Release Year</th>\n",
       "      <th>Duration (Mins)</th>\n",
       "      <th>Duration (Seasons)</th>\n",
       "      <th>Director(s)</th>\n",
       "      <th>Cast</th>\n",
       "      <th>Synopsis</th>\n",
       "      <th>ServiceKey</th>\n",
       "      <th>TitleKey</th>\n",
       "      <th>TypeKey</th>\n",
       "      <th>GenreKey</th>\n",
       "      <th>CertificateKey</th>\n",
       "    </tr>\n",
       "  </thead>\n",
       "  <tbody>\n",
       "    <tr>\n",
       "      <th>0</th>\n",
       "      <td>2018</td>\n",
       "      <td>110.0</td>\n",
       "      <td>0</td>\n",
       "      <td>Girish Joshi</td>\n",
       "      <td>Mahesh Manjrekar, Abhay Mahajan, Sachin Khedekar</td>\n",
       "      <td>A Metro Family decides to fight a Cyber Crimin...</td>\n",
       "      <td>0</td>\n",
       "      <td>14652</td>\n",
       "      <td>0</td>\n",
       "      <td>960</td>\n",
       "      <td>0</td>\n",
       "    </tr>\n",
       "    <tr>\n",
       "      <th>1</th>\n",
       "      <td>2016</td>\n",
       "      <td>87.0</td>\n",
       "      <td>0</td>\n",
       "      <td>Glenn Miller</td>\n",
       "      <td>Marcus Anderson, Kaiwi Lyman, Andrew Asper</td>\n",
       "      <td>When a strange virus quickly spreads through a...</td>\n",
       "      <td>0</td>\n",
       "      <td>19078</td>\n",
       "      <td>0</td>\n",
       "      <td>1100</td>\n",
       "      <td>0</td>\n",
       "    </tr>\n",
       "    <tr>\n",
       "      <th>2</th>\n",
       "      <td>2008</td>\n",
       "      <td>0.0</td>\n",
       "      <td>1</td>\n",
       "      <td>NaN</td>\n",
       "      <td>Narrator - Gillian Barlett</td>\n",
       "      <td>A heart warming and inspiring series that welc...</td>\n",
       "      <td>0</td>\n",
       "      <td>19076</td>\n",
       "      <td>1</td>\n",
       "      <td>1202</td>\n",
       "      <td>7</td>\n",
       "    </tr>\n",
       "    <tr>\n",
       "      <th>3</th>\n",
       "      <td>2020</td>\n",
       "      <td>0.0</td>\n",
       "      <td>1</td>\n",
       "      <td>NaN</td>\n",
       "      <td>Zoë Coombs Marr</td>\n",
       "      <td>Zoë Coombs Marr has been on hiatus. Sort of. F...</td>\n",
       "      <td>0</td>\n",
       "      <td>19083</td>\n",
       "      <td>1</td>\n",
       "      <td>762</td>\n",
       "      <td>3</td>\n",
       "    </tr>\n",
       "    <tr>\n",
       "      <th>4</th>\n",
       "      <td>2018</td>\n",
       "      <td>104.0</td>\n",
       "      <td>0</td>\n",
       "      <td>Drake Doremus</td>\n",
       "      <td>Ewan McGregor, Léa Seydoux, Theo James, Mirand...</td>\n",
       "      <td>ZOE tells a tale of forbidden love between an ...</td>\n",
       "      <td>0</td>\n",
       "      <td>19061</td>\n",
       "      <td>0</td>\n",
       "      <td>1256</td>\n",
       "      <td>14</td>\n",
       "    </tr>\n",
       "  </tbody>\n",
       "</table>\n",
       "</div>"
      ],
      "text/plain": [
       "   Release Year  Duration (Mins)  Duration (Seasons)    Director(s)  \\\n",
       "0          2018            110.0                   0   Girish Joshi   \n",
       "1          2016             87.0                   0   Glenn Miller   \n",
       "2          2008              0.0                   1            NaN   \n",
       "3          2020              0.0                   1            NaN   \n",
       "4          2018            104.0                   0  Drake Doremus   \n",
       "\n",
       "                                                Cast  \\\n",
       "0   Mahesh Manjrekar, Abhay Mahajan, Sachin Khedekar   \n",
       "1         Marcus Anderson, Kaiwi Lyman, Andrew Asper   \n",
       "2                         Narrator - Gillian Barlett   \n",
       "3                                    Zoë Coombs Marr   \n",
       "4  Ewan McGregor, Léa Seydoux, Theo James, Mirand...   \n",
       "\n",
       "                                            Synopsis  ServiceKey  TitleKey  \\\n",
       "0  A Metro Family decides to fight a Cyber Crimin...           0     14652   \n",
       "1  When a strange virus quickly spreads through a...           0     19078   \n",
       "2  A heart warming and inspiring series that welc...           0     19076   \n",
       "3  Zoë Coombs Marr has been on hiatus. Sort of. F...           0     19083   \n",
       "4  ZOE tells a tale of forbidden love between an ...           0     19061   \n",
       "\n",
       "   TypeKey  GenreKey  CertificateKey  \n",
       "0        0       960               0  \n",
       "1        0      1100               0  \n",
       "2        1      1202               7  \n",
       "3        1       762               3  \n",
       "4        0      1256              14  "
      ]
     },
     "execution_count": 15,
     "metadata": {},
     "output_type": "execute_result"
    }
   ],
   "source": [
    "dfFactMedia = updateFactColumnsWithKeys(dfFactMedia, DIM_TABLES, dimKeyCols, DIM_TABLE_NAMES)\n",
    "dfFactMedia.head()"
   ]
  },
  {
   "cell_type": "markdown",
   "id": "10fb0f4e",
   "metadata": {},
   "source": [
    "# Prep Tables for Excel dump\n",
    "\n",
    "Add `fact_media` to `dimensions` list"
   ]
  },
  {
   "cell_type": "code",
   "execution_count": 16,
   "id": "a64e3092",
   "metadata": {},
   "outputs": [
    {
     "data": {
      "text/plain": [
       "6"
      ]
     },
     "execution_count": 16,
     "metadata": {},
     "output_type": "execute_result"
    }
   ],
   "source": [
    "DIM_TABLES.append(dfFactMedia)\n",
    "len(DIM_TABLES)"
   ]
  },
  {
   "cell_type": "markdown",
   "id": "5d347aa4",
   "metadata": {},
   "source": [
    "Create list of worksheet names for all tables"
   ]
  },
  {
   "cell_type": "code",
   "execution_count": 17,
   "id": "e06f3038",
   "metadata": {},
   "outputs": [
    {
     "data": {
      "text/plain": [
       "['dim_service',\n",
       " 'dim_title',\n",
       " 'dim_type',\n",
       " 'dim_genre',\n",
       " 'dim_certificate',\n",
       " 'fact_media']"
      ]
     },
     "execution_count": 17,
     "metadata": {},
     "output_type": "execute_result"
    }
   ],
   "source": [
    "sheet = []\n",
    "\n",
    "for name in DIM_TABLE_NAMES:\n",
    "    sheetName = 'dim_' + name\n",
    "    sheet.append(sheetName)\n",
    "\n",
    "sheet.append('fact_media')\n",
    "sheet"
   ]
  },
  {
   "cell_type": "markdown",
   "id": "906533f8",
   "metadata": {},
   "source": [
    "# Save Data Model to Processed folder"
   ]
  },
  {
   "cell_type": "code",
   "execution_count": 18,
   "id": "4271b672",
   "metadata": {},
   "outputs": [],
   "source": [
    "filePath = '../Data/Processed/streaming-services-data-model.xlsx'\n",
    "path = Path(filePath)\n",
    "writer = pd.ExcelWriter(path)\n",
    "\n",
    "for df, n in zip(DIM_TABLES, sheet):\n",
    "    df.to_excel(writer, index=False, sheet_name=n)\n",
    "    \n",
    "writer.save()"
   ]
  }
 ],
 "metadata": {
  "kernelspec": {
   "display_name": "Python 3",
   "language": "python",
   "name": "python3"
  },
  "language_info": {
   "codemirror_mode": {
    "name": "ipython",
    "version": 3
   },
   "file_extension": ".py",
   "mimetype": "text/x-python",
   "name": "python",
   "nbconvert_exporter": "python",
   "pygments_lexer": "ipython3",
   "version": "3.8.8"
  }
 },
 "nbformat": 4,
 "nbformat_minor": 5
}
